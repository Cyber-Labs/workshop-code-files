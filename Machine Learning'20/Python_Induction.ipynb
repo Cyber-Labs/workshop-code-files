{
 "cells": [
  {
   "cell_type": "markdown",
   "metadata": {},
   "source": [
    "<img src=\"https://www.iitism.ac.in/assets/img/logo.png\" alt = \"IITISM Logo\" height=70 width = 70 align = left margin-top = 20 >\n",
    "<img src = \"https://cyberlabs.club/assets/img/favico.png\"  alt = \"CyberLabs Logo\" height=60 width = 60 align = right><br>\n",
    "<center>\n",
    "    <h1> CyberLabs</h1>\n",
    "    <h2>Machine Learning Division<h2> \n",
    "<center>\n"
   ]
  },
  {
   "cell_type": "markdown",
   "metadata": {},
   "source": [
    "# Workshop I\n",
    "# <b>Introduction to Python</b>\n",
    "\n",
    "Python is a modern, robust, high level, general level programming language. It is very easy to pick up even if you are completely new to programming.\n",
    "Python is platform independent. It has simpler syntax and it supports Object Oriented Programming.\n",
    "\n",
    "### What is Python used for?\n",
    "\n",
    "\n",
    "*   Web development(Server Side) 🌐\n",
    "*   Software developement 👩‍💻\n",
    "*   Machine Learning 🔥\n"
   ]
  },
  {
   "cell_type": "markdown",
   "metadata": {},
   "source": [
    "###  ```Hello World``` Program"
   ]
  },
  {
   "cell_type": "code",
   "execution_count": null,
   "metadata": {},
   "outputs": [],
   "source": [
    "print(\"Hello World!✋\") "
   ]
  },
  {
   "cell_type": "markdown",
   "metadata": {},
   "source": [
    "##  Python Variables\n",
    "\n",
    "Variables are containers for storing data values.\n",
    "To declare a variable, just assign a value to it.<br>\n",
    "Python is a dynamically typed language, that means you don't have to mention  data type prior to declaring a variable.\n",
    "\n"
   ]
  },
  {
   "cell_type": "markdown",
   "metadata": {
    "colab_type": "text",
    "id": "mI11NjdlpHY-"
   },
   "source": [
    "### Variable Assignment\n",
    "\n",
    "#### Rules for variable names\n",
    "* names can not start with a number\n",
    "* names can not contain spaces, use _ intead\n",
    "* names can not contain any of these symbols:\n",
    "\n",
    "      :'\",<>/?|\\!@#%^&*~-+\n",
    "       \n",
    "* it's considered best practice ([PEP8](https://www.python.org/dev/peps/pep-0008/#function-and-variable-names)) that names are lowercase with underscores\n",
    "* avoid using Python built-in keywords like `list` and `str`\n",
    "* avoid using the single characters `l` (lowercase letter el), `O` (uppercase letter oh) and `I` (uppercase letter eye) as they can be confused with `1` and `0`"
   ]
  },
  {
   "cell_type": "code",
   "execution_count": null,
   "metadata": {
    "colab": {},
    "colab_type": "code",
    "id": "54WfBMYppAgv"
   },
   "outputs": [],
   "source": [
    "my_dog = 2\n",
    "my_dog"
   ]
  },
  {
   "cell_type": "code",
   "execution_count": null,
   "metadata": {
    "colab": {
     "base_uri": "https://localhost:8080/",
     "height": 34
    },
    "colab_type": "code",
    "id": "6qew4xJxqluD",
    "outputId": "d82e51cd-f14a-4915-8c77-f926ef199c02"
   },
   "outputs": [],
   "source": [
    "tom = 0.2\n",
    "tom"
   ]
  },
  {
   "cell_type": "code",
   "execution_count": null,
   "metadata": {
    "colab": {},
    "colab_type": "code",
    "id": "0g_UBbeFxQcE"
   },
   "outputs": [],
   "source": [
    "name = \"Your Name\""
   ]
  },
  {
   "cell_type": "code",
   "execution_count": null,
   "metadata": {
    "colab": {
     "base_uri": "https://localhost:8080/",
     "height": 128
    },
    "colab_type": "code",
    "id": "WdlVtfWKOHA0",
    "outputId": "fb863bb2-9ba3-470d-ab5b-04e877516b97"
   },
   "outputs": [],
   "source": [
    "1name=1#Incorrect variable name"
   ]
  },
  {
   "cell_type": "markdown",
   "metadata": {
    "colab_type": "text",
    "id": "clVr80oBqZYu"
   },
   "source": [
    "# Data Types\n",
    "## Determining variable type with `type()`\n",
    "You can check what type of object is assigned to a variable using Python's built-in `type()` function. Common data types include:\n",
    "* **int** (for integer)\n",
    "* **float**\n",
    "* **str** (for string)\n",
    "* **list**\n",
    "* **tuple**\n",
    "* **dict** (for dictionary)\n",
    "* **set**\n",
    "* **bool** (for Boolean True/False)"
   ]
  },
  {
   "cell_type": "code",
   "execution_count": null,
   "metadata": {
    "colab": {
     "base_uri": "https://localhost:8080/",
     "height": 34
    },
    "colab_type": "code",
    "id": "CVMNW2odqJpI",
    "outputId": "edff1e68-d6e5-4a85-cafd-2b0237b8f85d"
   },
   "outputs": [],
   "source": [
    "type(my_dog)"
   ]
  },
  {
   "cell_type": "code",
   "execution_count": null,
   "metadata": {
    "colab": {
     "base_uri": "https://localhost:8080/",
     "height": 34
    },
    "colab_type": "code",
    "id": "gmMvSDMnxZXM",
    "outputId": "7cf47995-fb8e-49b6-f585-ae201f4d1068"
   },
   "outputs": [],
   "source": [
    "type(tom)"
   ]
  },
  {
   "cell_type": "code",
   "execution_count": null,
   "metadata": {
    "colab": {
     "base_uri": "https://localhost:8080/",
     "height": 34
    },
    "colab_type": "code",
    "id": "GpdowV1sxbUE",
    "outputId": "429f3a28-4904-4c09-d00c-d0480e6199cd"
   },
   "outputs": [],
   "source": [
    "type(name)"
   ]
  },
  {
   "cell_type": "markdown",
   "metadata": {
    "colab_type": "text",
    "id": "JRgwh0Koqpto"
   },
   "source": [
    "#### print()\n",
    "The print() function prints the specified message to the screen, or other standard output device.\n",
    "\n",
    "The message can be a string, or any other object, the object will be converted into a string before written to the screen.\n",
    "\n"
   ]
  },
  {
   "cell_type": "code",
   "execution_count": null,
   "metadata": {
    "colab": {
     "base_uri": "https://localhost:8080/",
     "height": 34
    },
    "colab_type": "code",
    "id": "BdeMAjL_qdrK",
    "outputId": "f04ae7ef-3ae3-48a0-a9fb-347f5469a6da"
   },
   "outputs": [],
   "source": [
    "print(tom)"
   ]
  },
  {
   "cell_type": "code",
   "execution_count": null,
   "metadata": {
    "colab": {
     "base_uri": "https://localhost:8080/",
     "height": 34
    },
    "colab_type": "code",
    "id": "df1YB1iFx2WT",
    "outputId": "c6826e77-f51f-449c-c6f8-bc5290cabc66"
   },
   "outputs": [],
   "source": [
    "print(my_dog*2)"
   ]
  },
  {
   "cell_type": "code",
   "execution_count": null,
   "metadata": {
    "colab": {
     "base_uri": "https://localhost:8080/",
     "height": 34
    },
    "colab_type": "code",
    "id": "IyOf1nRnxh1a",
    "outputId": "81daab3a-e97c-4040-f019-55069d9c3829"
   },
   "outputs": [],
   "source": [
    "print(name)"
   ]
  },
  {
   "cell_type": "code",
   "execution_count": null,
   "metadata": {
    "colab": {
     "base_uri": "https://localhost:8080/",
     "height": 50
    },
    "colab_type": "code",
    "id": "3j0A_377xkAB",
    "outputId": "7a2f9951-f34f-4fe4-8bfd-a70ef5cd0893"
   },
   "outputs": [],
   "source": [
    "print(\"Cyberlabs\")"
   ]
  },
  {
   "cell_type": "code",
   "execution_count": null,
   "metadata": {
    "colab": {
     "base_uri": "https://localhost:8080/",
     "height": 34
    },
    "colab_type": "code",
    "id": "Tk4VdIkrxr6s",
    "outputId": "8061b087-8736-4bbd-ed8e-b8563db44d58"
   },
   "outputs": [],
   "source": [
    "print(type(tom))"
   ]
  },
  {
   "cell_type": "code",
   "execution_count": null,
   "metadata": {
    "colab": {
     "base_uri": "https://localhost:8080/",
     "height": 34
    },
    "colab_type": "code",
    "id": "J7qfB-VEPYIv",
    "outputId": "346a56e9-84f4-4a1b-b661-18d704fc4dbf"
   },
   "outputs": [],
   "source": [
    "print(tom,my_dog)"
   ]
  },
  {
   "cell_type": "markdown",
   "metadata": {
    "colab_type": "text",
    "id": "lJpUkhNcP6EC"
   },
   "source": [
    "### TODO-1"
   ]
  },
  {
   "cell_type": "code",
   "execution_count": null,
   "metadata": {
    "colab": {},
    "colab_type": "code",
    "id": "X08KeSmnQArD"
   },
   "outputs": [],
   "source": [
    "# Print your Name and Admission number\n"
   ]
  },
  {
   "cell_type": "markdown",
   "metadata": {
    "colab_type": "text",
    "id": "_1K13IahrC80"
   },
   "source": [
    "# Lists\n",
    "\n",
    "Lists can be thought of the most general version of a *sequence* in Python. Unlike strings, they are mutable, meaning the elements inside a list can be changed!\n",
    "\n",
    "In this section we will learn about:\n",
    "    \n",
    "    1.) Creating lists\n",
    "    2.) Indexing and Slicing Lists\n",
    "    3.) Basic List Methods\n",
    "    4.) Nesting Lists\n",
    "    5.) Introduction to List Comprehensions\n",
    "\n",
    "Lists are constructed with brackets [] and commas separating every element in the list.\n",
    "\n",
    "Let's go ahead and see how we can construct lists!"
   ]
  },
  {
   "cell_type": "code",
   "execution_count": null,
   "metadata": {
    "colab": {},
    "colab_type": "code",
    "id": "eS1qggxiyIa_"
   },
   "outputs": [],
   "source": [
    "# Assign a list to an variable named my_list\n",
    "my_list = [1,2,3,4,5,6]\n",
    "list2 = [i for i in range(1, 7)]\n",
    "# Heterogeneous Data Types can also be stored together\n",
    "new_list = ['A string',23,100.232,'o']"
   ]
  },
  {
   "cell_type": "code",
   "execution_count": null,
   "metadata": {
    "colab": {
     "base_uri": "https://localhost:8080/",
     "height": 34
    },
    "colab_type": "code",
    "id": "busBqB8syq_f",
    "outputId": "3063fbf3-5e5d-4131-a98b-47826bf6f435"
   },
   "outputs": [],
   "source": [
    "print(my_list)\n",
    "print(list2)"
   ]
  },
  {
   "cell_type": "code",
   "execution_count": null,
   "metadata": {
    "colab": {
     "base_uri": "https://localhost:8080/",
     "height": 34
    },
    "colab_type": "code",
    "id": "UcU1zHNHyu1q",
    "outputId": "5dcea845-b881-434c-fe0a-187f16ba5e42"
   },
   "outputs": [],
   "source": [
    "print(new_list)"
   ]
  },
  {
   "cell_type": "code",
   "execution_count": null,
   "metadata": {
    "colab": {
     "base_uri": "https://localhost:8080/",
     "height": 34
    },
    "colab_type": "code",
    "id": "MYs0CI36yxo2",
    "outputId": "068fa7f7-5257-49c9-9029-615cbc2bded2"
   },
   "outputs": [],
   "source": [
    "len(new_list)"
   ]
  },
  {
   "cell_type": "markdown",
   "metadata": {
    "colab_type": "text",
    "id": "w2BPmnWCrmaH"
   },
   "source": [
    "### Indexing and Slicing"
   ]
  },
  {
   "cell_type": "code",
   "execution_count": null,
   "metadata": {
    "colab": {
     "base_uri": "https://localhost:8080/",
     "height": 34
    },
    "colab_type": "code",
    "id": "E7ZwHmNg1QGm",
    "outputId": "26fd3c97-6404-49e9-e359-25383dc181e0"
   },
   "outputs": [],
   "source": [
    "my_list[0]"
   ]
  },
  {
   "cell_type": "code",
   "execution_count": null,
   "metadata": {
    "colab": {
     "base_uri": "https://localhost:8080/",
     "height": 34
    },
    "colab_type": "code",
    "id": "WgXpWcrW1bNc",
    "outputId": "f4f6c318-df6a-4753-9432-4851f153f133"
   },
   "outputs": [],
   "source": [
    "my_list[-1]"
   ]
  },
  {
   "cell_type": "code",
   "execution_count": null,
   "metadata": {
    "colab": {
     "base_uri": "https://localhost:8080/",
     "height": 34
    },
    "colab_type": "code",
    "id": "IeWWdnIx1dYA",
    "outputId": "ae95b68b-eb80-4653-fa9e-3d43f0ecc407"
   },
   "outputs": [],
   "source": [
    "my_list[1:3]"
   ]
  },
  {
   "cell_type": "code",
   "execution_count": null,
   "metadata": {
    "colab": {
     "base_uri": "https://localhost:8080/",
     "height": 34
    },
    "colab_type": "code",
    "id": "aS44mcmn1mg7",
    "outputId": "61bf9229-31f3-4797-baad-a8fc6c80a590"
   },
   "outputs": [],
   "source": [
    "my_list[:5]"
   ]
  },
  {
   "cell_type": "markdown",
   "metadata": {
    "colab_type": "text",
    "id": "j0oInoX32acy"
   },
   "source": [
    "##Changing an element in a list\n",
    "Lists are mutable"
   ]
  },
  {
   "cell_type": "code",
   "execution_count": null,
   "metadata": {
    "colab": {
     "base_uri": "https://localhost:8080/",
     "height": 34
    },
    "colab_type": "code",
    "id": "5GxxAEzY2r2V",
    "outputId": "83a75f8a-0378-4939-cc9d-5a6491448239"
   },
   "outputs": [],
   "source": [
    "my_list[3]=9\n",
    "print(my_list)"
   ]
  },
  {
   "cell_type": "markdown",
   "metadata": {
    "colab_type": "text",
    "id": "BHKUOeXuQrtC"
   },
   "source": [
    "### TODO-2\n",
    " ```\n",
    "Q-What will be the output of my_list[-2:]?\n",
    "```"
   ]
  },
  {
   "cell_type": "code",
   "execution_count": null,
   "metadata": {
    "colab": {},
    "colab_type": "code",
    "id": "z1acm605Q-wu"
   },
   "outputs": [],
   "source": [
    "#Try and find out"
   ]
  },
  {
   "cell_type": "markdown",
   "metadata": {
    "colab_type": "text",
    "id": "DgoJoeAvri62"
   },
   "source": [
    "## Basic List Methods\n",
    "\n",
    "If you are familiar with another programming language, you might start to draw parallels between arrays in another language and lists in Python. Lists in Python however, tend to be more flexible than arrays in other languages for a two good reasons: they have no fixed size (meaning we don't have to specify how big a list will be), and they have no fixed type constraint (like we've seen above).\n",
    "\n",
    "Let's go ahead and explore some more special methods for lists:"
   ]
  },
  {
   "cell_type": "markdown",
   "metadata": {
    "colab_type": "text",
    "id": "MJiaRSJUt2Fg"
   },
   "source": [
    "Fortunately, with iPython and the Jupyter Notebook we can quickly see all the possible methods using the tab key. The methods for a list are:\n",
    "\n",
    "* append\n",
    "* count\n",
    "* extend\n",
    "* insert\n",
    "* pop\n",
    "* remove\n",
    "* reverse\n",
    "* sort\n"
   ]
  },
  {
   "cell_type": "code",
   "execution_count": null,
   "metadata": {
    "colab": {
     "base_uri": "https://localhost:8080/",
     "height": 34
    },
    "colab_type": "code",
    "id": "2XB9mFqx0WTU",
    "outputId": "9ba4c135-f204-4bbe-86d4-2660e65b58d1"
   },
   "outputs": [],
   "source": [
    "my_list.append(5)\n",
    "print(my_list)"
   ]
  },
  {
   "cell_type": "code",
   "execution_count": null,
   "metadata": {
    "colab": {
     "base_uri": "https://localhost:8080/",
     "height": 34
    },
    "colab_type": "code",
    "id": "2NIWBA5r0pt6",
    "outputId": "daa0a520-9a83-4b12-adb5-27875c8a9dce"
   },
   "outputs": [],
   "source": [
    "my_list.pop()\n",
    "print(my_list)"
   ]
  },
  {
   "cell_type": "markdown",
   "metadata": {
    "colab_type": "text",
    "id": "ewakrhGURD6T"
   },
   "source": [
    "### TODO-3\n",
    "```\n",
    "Insert,Reverse and Sort the list\n",
    "```"
   ]
  },
  {
   "cell_type": "code",
   "execution_count": null,
   "metadata": {
    "colab": {},
    "colab_type": "code",
    "id": "AjHP-Fj5RKPR"
   },
   "outputs": [],
   "source": [
    "#Enter the values of position and value to insert it and then print the list\n",
    "my_list.insert(position,value)"
   ]
  },
  {
   "cell_type": "code",
   "execution_count": null,
   "metadata": {
    "colab": {},
    "colab_type": "code",
    "id": "dZaMDaSMSj6N"
   },
   "outputs": [],
   "source": [
    "#Try sort here"
   ]
  },
  {
   "cell_type": "code",
   "execution_count": null,
   "metadata": {
    "colab": {},
    "colab_type": "code",
    "id": "NvHtUO5pSj2k"
   },
   "outputs": [],
   "source": [
    "#Try reverse here"
   ]
  },
  {
   "cell_type": "markdown",
   "metadata": {
    "colab_type": "text",
    "id": "6q3c1R8bsBig"
   },
   "source": [
    "# Tuples\n",
    "\n",
    "In Python tuples are very similar to lists, however, unlike lists they are *immutable* meaning they can not be changed. You would use tuples to present things that shouldn't be changed, such as days of the week, or dates on a calendar. \n",
    "\n",
    "You'll have an intuition of how to use tuples based on what you've learned about lists. We can treat them very similarly with the major distinction being that tuples are immutable.\n",
    "\n",
    "## Constructing Tuples\n",
    "\n",
    "The construction of a tuples use () with elements separated by commas. For example:"
   ]
  },
  {
   "cell_type": "code",
   "execution_count": null,
   "metadata": {
    "colab": {},
    "colab_type": "code",
    "id": "_981GLbS3C-3"
   },
   "outputs": [],
   "source": [
    "#Homogeneous elements\n",
    "my_tuple=(1,2,2,3,4,5,6,7)\n",
    "#Heterogeneous elements\n",
    "new_tuple=('Ayush',\"A\",1,1.2)"
   ]
  },
  {
   "cell_type": "code",
   "execution_count": null,
   "metadata": {
    "colab": {
     "base_uri": "https://localhost:8080/",
     "height": 34
    },
    "colab_type": "code",
    "id": "SVgj2Mu_3dPv",
    "outputId": "3fecc8c4-e73b-4c4f-fc99-561664bedec7"
   },
   "outputs": [],
   "source": [
    "my_tuple"
   ]
  },
  {
   "cell_type": "code",
   "execution_count": null,
   "metadata": {
    "colab": {
     "base_uri": "https://localhost:8080/",
     "height": 34
    },
    "colab_type": "code",
    "id": "58h3DH5f34YD",
    "outputId": "b705e817-9b05-414d-ba5d-70a369cc6620"
   },
   "outputs": [],
   "source": [
    "new_tuple"
   ]
  },
  {
   "cell_type": "markdown",
   "metadata": {
    "colab_type": "text",
    "id": "-I7yOngx4giv"
   },
   "source": [
    "### Tuples are Immutable"
   ]
  },
  {
   "cell_type": "code",
   "execution_count": null,
   "metadata": {
    "colab": {
     "base_uri": "https://localhost:8080/",
     "height": 162
    },
    "colab_type": "code",
    "id": "Sdrjf6oH3_MP",
    "outputId": "83b1ee85-bf5a-4b0f-8f92-1f621632d8d6"
   },
   "outputs": [],
   "source": [
    "my_tuple[3]=8"
   ]
  },
  {
   "cell_type": "markdown",
   "metadata": {
    "colab_type": "text",
    "id": "Px5TicECsGIT"
   },
   "source": [
    "## Basic Tuple Methods\n",
    "\n",
    "Tuples have built-in methods, but not as many as lists do. Let's look at two of them:"
   ]
  },
  {
   "cell_type": "code",
   "execution_count": null,
   "metadata": {
    "colab": {},
    "colab_type": "code",
    "id": "UFCrF3JhsDxf"
   },
   "outputs": [],
   "source": [
    "len(my_tuple)"
   ]
  },
  {
   "cell_type": "code",
   "execution_count": null,
   "metadata": {
    "colab": {
     "base_uri": "https://localhost:8080/",
     "height": 34
    },
    "colab_type": "code",
    "id": "3e5nk7C84H7p",
    "outputId": "f4e84b2f-5c64-4242-bab1-a2d53315484c"
   },
   "outputs": [],
   "source": [
    "my_tuple.count(2)"
   ]
  },
  {
   "cell_type": "code",
   "execution_count": null,
   "metadata": {
    "colab": {
     "base_uri": "https://localhost:8080/",
     "height": 34
    },
    "colab_type": "code",
    "id": "SSaYLYir4UBf",
    "outputId": "c6509cec-114f-4d89-df31-e02b10e0f560"
   },
   "outputs": [],
   "source": [
    "my_tuple.index(3)"
   ]
  },
  {
   "cell_type": "code",
   "execution_count": null,
   "metadata": {
    "colab": {
     "base_uri": "https://localhost:8080/",
     "height": 162
    },
    "colab_type": "code",
    "id": "TaA_oqZL4Ytg",
    "outputId": "3148badf-7a81-40f1-b375-34b0a787fd2c"
   },
   "outputs": [],
   "source": [
    "my_tuple.append(3)"
   ]
  },
  {
   "cell_type": "markdown",
   "metadata": {
    "colab_type": "text",
    "id": "5LM-Y9_1sMjD"
   },
   "source": [
    "# Introduction to Python Statements\n",
    "Here we will emphasize differences between Python and other languages such as C++. \n",
    "\n",
    "There are two reasons we take this approach for learning the context of Python Statements:\n",
    "\n",
    "    1.) If you are coming from a different language this will rapidly accelerate your understanding of Python.\n",
    "    2.) Learning about statements will allow you to be able to read other languages more easily in the future."
   ]
  },
  {
   "cell_type": "markdown",
   "metadata": {
    "colab_type": "text",
    "id": "HejrQ82EsckG"
   },
   "source": [
    "You'll notice that Python is less cluttered and much more readable than the first version. How does Python manage this?\n",
    "\n",
    "Let's walk through the main differences:\n",
    "\n",
    "Python gets rid of () and {} by incorporating two main factors: a *colon* and *whitespace*. The statement is ended with a colon, and whitespace is used (indentation) to describe what takes place in case of the statement.\n",
    "\n",
    "Another major difference is the lack of semicolons in Python. Semicolons are used to denote statement endings in many other languages, but in Python, the end of a line is the same as the end of a statement.\n",
    "\n",
    "Lastly, to end this brief overview of differences, let's take a closer look at indentation syntax in Python vs other languages:\n",
    "\n",
    "## Indentation\n",
    "\n",
    "Here is some pseudo-code to indicate the use of whitespace and indentation in Python:\n",
    "\n",
    "**Other Languages**\n",
    "\n",
    "    if (x)\n",
    "        if (y)\n",
    "            code-statement;\n",
    "        else\n",
    "            code-statement;\n",
    "    else\n",
    "        another-code-statement;\n",
    "        \n",
    "**Python**\n",
    "    \n",
    "    if x:\n",
    "        if y:\n",
    "            code-statement\n",
    "        else:\n",
    "            code-statement\n",
    "    else:\n",
    "        another-code-statement"
   ]
  },
  {
   "cell_type": "markdown",
   "metadata": {
    "colab_type": "text",
    "id": "jGQLNmWqssUy"
   },
   "source": [
    "# if, elif, else Statements\n",
    "\n",
    "<code>if</code> Statements in Python allows us to tell the computer to perform alternative actions based on a certain set of results.\n",
    "\n",
    "Verbally, we can imagine we are telling the computer:\n",
    "\n",
    "\"Hey if this case happens, perform some action\"\n",
    "\n",
    "We can then expand the idea further with <code>elif</code> and <code>else</code> statements, which allow us to tell the computer:\n",
    "\n",
    "\"Hey if this case happens, perform some action. Else, if another case happens, perform some other action. Else, if *none* of the above cases happened, perform this action.\"\n",
    "\n",
    "Let's go ahead and look at the syntax format for <code>if</code> statements to get a better idea of this:\n",
    "\n",
    "    if case1:\n",
    "        perform action1\n",
    "    elif case2:\n",
    "        perform action2\n",
    "    else: \n",
    "        perform action3"
   ]
  },
  {
   "cell_type": "code",
   "execution_count": null,
   "metadata": {
    "colab": {
     "base_uri": "https://localhost:8080/",
     "height": 34
    },
    "colab_type": "code",
    "id": "SOLk_gtU4n_s",
    "outputId": "038f9d54-bc02-4825-b244-2094bf4b44f8"
   },
   "outputs": [],
   "source": [
    "x = 1\n",
    "\n",
    "if x==1:\n",
    "    print('I am 1')\n",
    "elif x==2:\n",
    "  print('I am 2')\n",
    "else:\n",
    "    print('I am neither 1 nor 2')"
   ]
  },
  {
   "cell_type": "markdown",
   "metadata": {
    "colab_type": "text",
    "id": "pJMHbvnLTCSb"
   },
   "source": [
    "### TODO-4\n",
    "```\n",
    "Q-Write a simple program to check whether login credentials are correct.\n",
    "If they are correct print \"You are worthy\"\n",
    "```"
   ]
  },
  {
   "cell_type": "code",
   "execution_count": null,
   "metadata": {
    "colab": {},
    "colab_type": "code",
    "id": "CxMNaUU0UAtm"
   },
   "outputs": [],
   "source": [
    "username = \"Thor\"#Write your own username here\n",
    "password = \"Mjolnir\"#Write your password here\n",
    "\n",
    "#Start code here"
   ]
  },
  {
   "cell_type": "markdown",
   "metadata": {
    "colab_type": "text",
    "id": "WruDD411s6ir"
   },
   "source": [
    "# for Loops\n",
    "\n",
    "A <code>for</code> loop acts as an iterator in Python; it goes through items that are in a *sequence* or any other iterable item. Objects that we've learned about that we can iterate over include strings, lists, tuples, and even built-in iterables for dictionaries, such as keys or values.\n",
    "\n",
    "We've already seen the <code>for</code> statement a little bit in past lectures but now let's formalize our understanding.\n",
    "\n",
    "Here's the general format for a <code>for</code> loop in Python:\n",
    "\n",
    "    for item in object:\n",
    "        statements to do stuff\n",
    "    "
   ]
  },
  {
   "cell_type": "code",
   "execution_count": null,
   "metadata": {
    "colab": {
     "base_uri": "https://localhost:8080/",
     "height": 118
    },
    "colab_type": "code",
    "id": "WG2SUXvW5N92",
    "outputId": "93a07744-6e10-4409-d16d-947a2baeb768"
   },
   "outputs": [],
   "source": [
    "for x in range(6):\n",
    "  print(x)"
   ]
  },
  {
   "cell_type": "code",
   "execution_count": null,
   "metadata": {
    "colab": {
     "base_uri": "https://localhost:8080/",
     "height": 218
    },
    "colab_type": "code",
    "id": "VR0nv5-H5iYR",
    "outputId": "3faae86f-b042-492f-e158-e47693d166cb"
   },
   "outputs": [],
   "source": [
    "for s in \"Arnav Chavan\":\n",
    "  print(s)"
   ]
  },
  {
   "cell_type": "markdown",
   "metadata": {
    "colab_type": "text",
    "id": "iXmsobQZtOZq"
   },
   "source": [
    "## Iterators"
   ]
  },
  {
   "cell_type": "code",
   "execution_count": null,
   "metadata": {
    "colab": {},
    "colab_type": "code",
    "id": "yFC3r5fSsyA7"
   },
   "outputs": [],
   "source": [
    "pokemons = ['Pikachu','Meowth','Charizard','Bulbasaur','Totodile','Squirtle']"
   ]
  },
  {
   "cell_type": "code",
   "execution_count": null,
   "metadata": {
    "colab": {
     "base_uri": "https://localhost:8080/",
     "height": 118
    },
    "colab_type": "code",
    "id": "4cxPls886q7c",
    "outputId": "ebf67406-90e3-41b6-f467-75e06214eed5"
   },
   "outputs": [],
   "source": [
    "for i in range(len(pokemons)):\n",
    "  print(pokemons[i])"
   ]
  },
  {
   "cell_type": "code",
   "execution_count": null,
   "metadata": {
    "colab": {
     "base_uri": "https://localhost:8080/",
     "height": 118
    },
    "colab_type": "code",
    "id": "TJzaGXeG6XJo",
    "outputId": "9fc258d0-d3a4-4662-8742-ee7e62be831a"
   },
   "outputs": [],
   "source": [
    "for pokemon in pokemons:\n",
    "  print(pokemon+\" is mine\")#You can add two strings using '+'"
   ]
  },
  {
   "cell_type": "code",
   "execution_count": null,
   "metadata": {
    "colab": {},
    "colab_type": "code",
    "id": "_U2HVlGr7IWf"
   },
   "outputs": [],
   "source": [
    "pokemons_tuple=('Pikachu','Meowth','Charizard','Bulbasaur','Totodile','Squirtle')"
   ]
  },
  {
   "cell_type": "code",
   "execution_count": null,
   "metadata": {
    "colab": {
     "base_uri": "https://localhost:8080/",
     "height": 118
    },
    "colab_type": "code",
    "id": "YR7HUNNG7UTc",
    "outputId": "bdc6686c-ba5b-4d76-ae12-92dd172933e6"
   },
   "outputs": [],
   "source": [
    "for pokemon in pokemons_tuple:\n",
    "  print(\"I have a \"+pokemon)#You can add two strings using '+'"
   ]
  },
  {
   "cell_type": "markdown",
   "metadata": {
    "colab_type": "text",
    "id": "UdeLgqrttStH"
   },
   "source": [
    "# while Loops\n",
    "\n",
    "The <code>while</code> statement in Python is one of most general ways to perform iteration. A <code>while</code> statement will repeatedly execute a single statement or group of statements as long as the condition is true. The reason it is called a 'loop' is because the code statements are looped through over and over again until the condition is no longer met.\n",
    "\n",
    "The general format of a while loop is:\n",
    "\n",
    "    while test:\n",
    "        code statements\n",
    "    else:\n",
    "        final code statements\n",
    "\n",
    "Let’s look at a few simple <code>while</code> loops in action. "
   ]
  },
  {
   "cell_type": "code",
   "execution_count": null,
   "metadata": {
    "colab": {
     "base_uri": "https://localhost:8080/",
     "height": 353
    },
    "colab_type": "code",
    "id": "W3EJIsPT7Ej2",
    "outputId": "a89af388-311e-48ff-ae32-b8707cadcabc"
   },
   "outputs": [],
   "source": [
    "x = 0\n",
    "\n",
    "while x < 10:\n",
    "    print('x is currently: ',x)\n",
    "    print(' x is still less than 10, adding 1 to x')\n",
    "    x+=1"
   ]
  },
  {
   "cell_type": "markdown",
   "metadata": {},
   "source": [
    "## Python Comments\n",
    "Comments can be used to explain Python code and to make the code more readable.\n",
    "They can be used to prevent execution when testing code.<br>\n",
    "\n",
    "### Creating comments\n",
    "Comments starts with a ```#```, and Python will ignore them:\n",
    "\n",
    "\n",
    "\n"
   ]
  },
  {
   "cell_type": "code",
   "execution_count": null,
   "metadata": {
    "scrolled": true
   },
   "outputs": [],
   "source": [
    "#This is a comment\n",
    "print(\"Hello world\")"
   ]
  },
  {
   "cell_type": "code",
   "execution_count": null,
   "metadata": {},
   "outputs": [],
   "source": [
    "#This time, comment will prevent the execution of code\n",
    "#print(\"One\")\n",
    "print(\"TWo\")"
   ]
  },
  {
   "cell_type": "markdown",
   "metadata": {},
   "source": [
    "### Multi-Line Comments\n",
    "Multi-line comments are written with the help of multi-line strings.\n",
    "#### Format :\n",
    "``` \n",
    "\"\"\"\n",
    "Your \n",
    "comment \n",
    "here\n",
    "\"\"\"\n",
    "```"
   ]
  },
  {
   "cell_type": "code",
   "execution_count": null,
   "metadata": {},
   "outputs": [],
   "source": [
    "\"\"\"\n",
    "This is a comment\n",
    "written in\n",
    "more than just one line\n",
    "\"\"\"\n",
    "print(\"Hello, World!\")\n"
   ]
  },
  {
   "cell_type": "markdown",
   "metadata": {
    "colab_type": "text",
    "id": "RWMof1M4uA1s"
   },
   "source": [
    "# Functions\n",
    "\n",
    "## Introduction to Functions\n",
    "\n",
    "**So what is a function?**\n",
    "\n",
    "Formally, a function is a useful device that groups together a set of statements so they can be run more than once. They can also let us specify parameters that can serve as inputs to the functions.\n",
    "\n",
    "On a more fundamental level, functions allow us to not have to repeatedly write the same code again and again. If you remember back to the lessons on strings and lists, remember that we used a function len() to get the length of a string. Since checking the length of a sequence is a common task you would want to write a function that can do this repeatedly at command.\n",
    "\n",
    "Functions will be one of most basic levels of reusing code in Python, and it will also allow us to start thinking of program design."
   ]
  },
  {
   "cell_type": "code",
   "execution_count": null,
   "metadata": {
    "colab": {},
    "colab_type": "code",
    "id": "oFi5lMjD8lgw"
   },
   "outputs": [],
   "source": [
    "def say_hello():\n",
    "    print('hello')"
   ]
  },
  {
   "cell_type": "code",
   "execution_count": null,
   "metadata": {
    "colab": {
     "base_uri": "https://localhost:8080/",
     "height": 34
    },
    "colab_type": "code",
    "id": "qzOyXJLG9Ol5",
    "outputId": "754e8ae2-737c-46b9-c1f9-fa12bd0c081f"
   },
   "outputs": [],
   "source": [
    "say_hello()"
   ]
  },
  {
   "cell_type": "code",
   "execution_count": null,
   "metadata": {
    "colab": {},
    "colab_type": "code",
    "id": "9mJK0JOs9Sw_"
   },
   "outputs": [],
   "source": [
    "def add(a,b):\n",
    "  return a+b"
   ]
  },
  {
   "cell_type": "code",
   "execution_count": null,
   "metadata": {
    "colab": {
     "base_uri": "https://localhost:8080/",
     "height": 34
    },
    "colab_type": "code",
    "id": "RThF3eHT9ZeD",
    "outputId": "9e789d54-d7d3-4fd5-d814-01ac8899df65"
   },
   "outputs": [],
   "source": [
    "add(4,5)"
   ]
  },
  {
   "cell_type": "markdown",
   "metadata": {
    "colab_type": "text",
    "id": "yVrOTcm_WKHp"
   },
   "source": [
    "### TODO-5\n",
    "```\n",
    "Q-Write a program to find an element in a given list using a function\n",
    "```"
   ]
  },
  {
   "cell_type": "code",
   "execution_count": null,
   "metadata": {
    "colab": {},
    "colab_type": "code",
    "id": "53pfeFULWJN1"
   },
   "outputs": [],
   "source": [
    "find_list=[1,2,3,4,5,6]\n",
    "#Find 5 in the given list and print it"
   ]
  },
  {
   "cell_type": "markdown",
   "metadata": {
    "colab_type": "text",
    "id": "82jCq9ODTsdK"
   },
   "source": [
    "# Class\n",
    "User defined objects are created using the <code>class</code> keyword. The class is a blueprint that defines the nature of a future object. From classes we can construct instances. An instance is a specific object created from a particular class.\n",
    "\n",
    "Let see how we can use <code>class</code>:"
   ]
  },
  {
   "cell_type": "markdown",
   "metadata": {
    "colab_type": "text",
    "id": "QKiDWQGHUatg"
   },
   "source": [
    "## <code>self</code> keyword\n",
    "```self``` represents the instance of the class. By using the “self” keyword we can access the attributes and methods of the class in python. It binds the attributes with the given arguments."
   ]
  },
  {
   "cell_type": "code",
   "execution_count": null,
   "metadata": {
    "colab": {
     "base_uri": "https://localhost:8080/",
     "height": 67
    },
    "colab_type": "code",
    "id": "Qo4XSasQT3O9",
    "outputId": "2e614026-b937-4d3a-ef9f-95289fa97be0"
   },
   "outputs": [],
   "source": [
    "class Circle:\n",
    "    pi = 3.14\n",
    "\n",
    "    # Circle gets instantiated with a radius (default is 1)\n",
    "    def __init__(self, radius=1):\n",
    "        self.radius = radius \n",
    "        self.area = radius * radius * Circle.pi\n",
    "\n",
    "    # Method for resetting Radius\n",
    "    def setRadius(self, new_radius):\n",
    "        self.radius = new_radius\n",
    "        self.area = new_radius * new_radius * self.pi\n",
    "\n",
    "    # Method for getting Circumference\n",
    "    def getCircumference(self):\n",
    "        return self.radius * self.pi * 2\n",
    "\n",
    "\n",
    "c = Circle()#Object of class Circle\n",
    "\n",
    "print('Radius is: ',c.radius)#Radius is an attribute\n",
    "print('Area is: ',c.area)\n",
    "print('Circumference is: ',c.getCircumference())"
   ]
  },
  {
   "cell_type": "code",
   "execution_count": null,
   "metadata": {
    "colab": {
     "base_uri": "https://localhost:8080/",
     "height": 67
    },
    "colab_type": "code",
    "id": "tWsQDySuVuiA",
    "outputId": "f5086305-d593-4f9a-9c8c-8acfbe5d7c92"
   },
   "outputs": [],
   "source": [
    "c1 = Circle(6)#Now we passed the radius as parameter to 6\n",
    "print('Radius is: ',c1.radius)\n",
    "print('Area is: ',c1.area)\n",
    "print('Circumference is: ',c1.getCircumference())"
   ]
  },
  {
   "cell_type": "markdown",
   "metadata": {
    "colab_type": "text",
    "id": "xPPz_E7nts6J"
   },
   "source": [
    "# Methods\n",
    "\n",
    "We've already seen a few example of methods when learning about Object and Data Structure Types in Python. Methods are essentially functions built into objects. \n",
    "\n",
    "Methods perform specific actions on an object and can also take arguments, just like a function.\n",
    "Methods are in the form:\n",
    "\n",
    "    object.method(arg1,arg2,etc...)"
   ]
  },
  {
   "cell_type": "code",
   "execution_count": null,
   "metadata": {
    "colab": {},
    "colab_type": "code",
    "id": "N_5uxbSrtq6Z"
   },
   "outputs": [],
   "source": [
    "import math"
   ]
  },
  {
   "cell_type": "code",
   "execution_count": null,
   "metadata": {
    "colab": {
     "base_uri": "https://localhost:8080/",
     "height": 34
    },
    "colab_type": "code",
    "id": "si1p9iyf7tnv",
    "outputId": "7de496bd-1bf2-4a65-efc2-a765c726dc79"
   },
   "outputs": [],
   "source": [
    "x=16\n",
    "math.sqrt(x)"
   ]
  },
  {
   "cell_type": "code",
   "execution_count": null,
   "metadata": {
    "colab": {
     "base_uri": "https://localhost:8080/",
     "height": 34
    },
    "colab_type": "code",
    "id": "BR7nWRnY7ydV",
    "outputId": "2a29f50a-09e6-4192-ec5b-e1ee57219004"
   },
   "outputs": [],
   "source": [
    "math.pow(12,2)"
   ]
  },
  {
   "cell_type": "code",
   "execution_count": null,
   "metadata": {
    "colab": {
     "base_uri": "https://localhost:8080/",
     "height": 34
    },
    "colab_type": "code",
    "id": "03hvlU1p7-jn",
    "outputId": "62bc4b70-b602-455c-e287-7597ca063d96"
   },
   "outputs": [],
   "source": [
    "math.sin(math.pi)"
   ]
  },
  {
   "cell_type": "code",
   "execution_count": null,
   "metadata": {
    "colab": {
     "base_uri": "https://localhost:8080/",
     "height": 34
    },
    "colab_type": "code",
    "id": "7vbY17ML8XNA",
    "outputId": "46f38bc2-fbfc-49e6-eb17-7d7c5232e395"
   },
   "outputs": [],
   "source": [
    "math.log(10)"
   ]
  },
  {
   "cell_type": "markdown",
   "metadata": {
    "colab_type": "text",
    "id": "sC7822PGviXj"
   },
   "source": [
    "# Numpy\n",
    "Numpy is the core library for scientific computing in Python. It provides a high-performance multidimensional array object, and tools for working with these arrays.\n",
    "To use Numpy, we first need to import the `numpy` package:"
   ]
  },
  {
   "cell_type": "code",
   "execution_count": null,
   "metadata": {
    "colab": {},
    "colab_type": "code",
    "id": "bEFc3REBw1MB"
   },
   "outputs": [],
   "source": [
    "import numpy as npp"
   ]
  },
  {
   "cell_type": "markdown",
   "metadata": {
    "colab_type": "text",
    "id": "agHUFA2FvpjF"
   },
   "source": [
    "## Array\n",
    "A numpy array is a grid of values, all of the same type, and is indexed by a tuple of nonnegative integers. The number of dimensions is the rank of the array; the shape of an array is a tuple of integers giving the size of the array along each dimension."
   ]
  },
  {
   "cell_type": "code",
   "execution_count": null,
   "metadata": {
    "colab": {},
    "colab_type": "code",
    "id": "FTVv7xOm9naa"
   },
   "outputs": [],
   "source": [
    "a = np.array([1, 2, 3])  # Create a rank 1 array"
   ]
  },
  {
   "cell_type": "code",
   "execution_count": null,
   "metadata": {
    "colab": {
     "base_uri": "https://localhost:8080/",
     "height": 34
    },
    "colab_type": "code",
    "id": "0TEiHAMv-K5T",
    "outputId": "68fb56c5-6301-484f-e13e-e780e8243543"
   },
   "outputs": [],
   "source": [
    "print(type(a))"
   ]
  },
  {
   "cell_type": "code",
   "execution_count": null,
   "metadata": {
    "colab": {
     "base_uri": "https://localhost:8080/",
     "height": 34
    },
    "colab_type": "code",
    "id": "_uMUkg5A-Nc0",
    "outputId": "7de748fb-5283-4753-94ea-78accc7e45ee"
   },
   "outputs": [],
   "source": [
    "print(a.shape)"
   ]
  },
  {
   "cell_type": "code",
   "execution_count": null,
   "metadata": {
    "colab": {
     "base_uri": "https://localhost:8080/",
     "height": 34
    },
    "colab_type": "code",
    "id": "ek6l8EQ6-QjK",
    "outputId": "3700cbc2-8359-4144-a3c3-6f61d67ef9c4"
   },
   "outputs": [],
   "source": [
    "print(a[0])"
   ]
  },
  {
   "cell_type": "code",
   "execution_count": null,
   "metadata": {
    "colab": {
     "base_uri": "https://localhost:8080/",
     "height": 34
    },
    "colab_type": "code",
    "id": "WmOaKBrj-UK8",
    "outputId": "62c158d4-68b4-43a8-cfdf-9f4ac0af1172"
   },
   "outputs": [],
   "source": [
    "a[0]=3\n",
    "print(a[0])"
   ]
  },
  {
   "cell_type": "code",
   "execution_count": null,
   "metadata": {
    "colab": {
     "base_uri": "https://localhost:8080/",
     "height": 34
    },
    "colab_type": "code",
    "id": "iqrSypP2-YhL",
    "outputId": "80413161-e7fd-4e95-c9f0-7abfc1db7e7d"
   },
   "outputs": [],
   "source": [
    "print(a)"
   ]
  },
  {
   "cell_type": "code",
   "execution_count": null,
   "metadata": {
    "colab": {
     "base_uri": "https://localhost:8080/",
     "height": 67
    },
    "colab_type": "code",
    "id": "964-Y308-bxQ",
    "outputId": "b6d8eafd-60af-497d-ecf2-529c5c68b31e",
    "scrolled": true
   },
   "outputs": [],
   "source": [
    "b=np.array(([1,2,3,4],[5,6,7,8],[9,10,11,12]))\n",
    "print(b)"
   ]
  },
  {
   "cell_type": "code",
   "execution_count": null,
   "metadata": {},
   "outputs": [],
   "source": [
    "b.ndim   #number of dimensions"
   ]
  },
  {
   "cell_type": "code",
   "execution_count": null,
   "metadata": {},
   "outputs": [],
   "source": [
    "b.size #total number of elements"
   ]
  },
  {
   "cell_type": "code",
   "execution_count": null,
   "metadata": {
    "colab": {
     "base_uri": "https://localhost:8080/",
     "height": 50
    },
    "colab_type": "code",
    "id": "yzVuTWgU_F_4",
    "outputId": "6c454fde-217f-4923-a22d-efd85066c6e8"
   },
   "outputs": [],
   "source": [
    "d=np.zeros((2,3))\n",
    "print(d)"
   ]
  },
  {
   "cell_type": "code",
   "execution_count": null,
   "metadata": {
    "colab": {
     "base_uri": "https://localhost:8080/",
     "height": 50
    },
    "colab_type": "code",
    "id": "q1zfIuC0_PzY",
    "outputId": "31613c1e-7473-40d7-8fee-4008beb6cb1f"
   },
   "outputs": [],
   "source": [
    "c=np.random.randn(2,3)#Generate random numbers\n",
    "print(c)"
   ]
  },
  {
   "cell_type": "code",
   "execution_count": null,
   "metadata": {
    "colab": {
     "base_uri": "https://localhost:8080/",
     "height": 50
    },
    "colab_type": "code",
    "id": "_n1QwRRn_oCZ",
    "outputId": "209e4225-fc2d-462c-8492-a8faf792347d"
   },
   "outputs": [],
   "source": [
    "e=np.ones((2,3))\n",
    "print(e)"
   ]
  },
  {
   "cell_type": "code",
   "execution_count": null,
   "metadata": {},
   "outputs": [],
   "source": [
    "f=np.arange(12)\n",
    "print(f)\n",
    "print('shape of f:',f.shape)"
   ]
  },
  {
   "cell_type": "markdown",
   "metadata": {
    "colab_type": "text",
    "id": "LpzgH_u-vvKE"
   },
   "source": [
    "## Array Indexing\n",
    "Numpy offers several ways to index into arrays."
   ]
  },
  {
   "cell_type": "code",
   "execution_count": null,
   "metadata": {
    "colab": {
     "base_uri": "https://localhost:8080/",
     "height": 34
    },
    "colab_type": "code",
    "id": "gWrwNZxE_uwa",
    "outputId": "a38e515d-d7ec-4fd9-d7d0-b4f7ea24fd16"
   },
   "outputs": [],
   "source": [
    "c[1][2]"
   ]
  },
  {
   "cell_type": "code",
   "execution_count": null,
   "metadata": {},
   "outputs": [],
   "source": [
    "f[0][2]"
   ]
  },
  {
   "cell_type": "code",
   "execution_count": null,
   "metadata": {
    "colab": {
     "base_uri": "https://localhost:8080/",
     "height": 50
    },
    "colab_type": "code",
    "id": "wV69tf3n_5zb",
    "outputId": "dd8be6f2-86ca-4f64-ba7b-989afff279ed"
   },
   "outputs": [],
   "source": [
    "c[:2][0:]"
   ]
  },
  {
   "cell_type": "code",
   "execution_count": null,
   "metadata": {},
   "outputs": [],
   "source": [
    "f[1:][:1]  #equivalent to a[:1] where a=f[1:]"
   ]
  },
  {
   "cell_type": "code",
   "execution_count": null,
   "metadata": {},
   "outputs": [],
   "source": [
    "f[1:,:1]"
   ]
  },
  {
   "cell_type": "markdown",
   "metadata": {
    "colab_type": "text",
    "id": "9pP1TaeAwDHX"
   },
   "source": [
    "## Array Math\n",
    "Basic mathematical functions operate elementwise on arrays, and are available both as operator overloads and as functions in the numpy module:"
   ]
  },
  {
   "cell_type": "code",
   "execution_count": null,
   "metadata": {
    "colab": {
     "base_uri": "https://localhost:8080/",
     "height": 134
    },
    "colab_type": "code",
    "id": "Ql8xZAxQAFuF",
    "outputId": "53e83409-87c6-4f4b-fcf3-700e6654cc4a"
   },
   "outputs": [],
   "source": [
    "array1=np.array(([1,2,3],[3,4,5]))#Shape (2,3)\n",
    "array2=np.random.randn(2,3)\n",
    "array3=np.array(([1,2,3,4],[4,5,6,7],[7,8,9,10]))#Shape (3,4)\n",
    "print(array1)\n",
    "print(array2)\n",
    "print(array3)"
   ]
  },
  {
   "cell_type": "code",
   "execution_count": null,
   "metadata": {
    "colab": {
     "base_uri": "https://localhost:8080/",
     "height": 34
    },
    "colab_type": "code",
    "id": "Suo9WwebCwu4",
    "outputId": "fa6d97d0-1e25-48b7-8e3f-f418d830cacc"
   },
   "outputs": [],
   "source": [
    "print(np.sum(array1))"
   ]
  },
  {
   "cell_type": "code",
   "execution_count": null,
   "metadata": {
    "colab": {
     "base_uri": "https://localhost:8080/",
     "height": 34
    },
    "colab_type": "code",
    "id": "8bCIwe8dCrR8",
    "outputId": "b4644eca-b39f-440f-8181-8da8c0698837"
   },
   "outputs": [],
   "source": [
    "print(np.max(array1))"
   ]
  },
  {
   "cell_type": "code",
   "execution_count": null,
   "metadata": {
    "colab": {
     "base_uri": "https://localhost:8080/",
     "height": 50
    },
    "colab_type": "code",
    "id": "ylmiaDtMA8Xl",
    "outputId": "b4e1b9b0-8572-49f6-c7cd-e90f20e2446f"
   },
   "outputs": [],
   "source": [
    "#Matrix addition\n",
    "sum_array=np.add(array1,array2)\n",
    "print(sum_array)"
   ]
  },
  {
   "cell_type": "markdown",
   "metadata": {},
   "source": [
    "#### Try this yourself"
   ]
  },
  {
   "cell_type": "code",
   "execution_count": null,
   "metadata": {},
   "outputs": [],
   "source": [
    "array3 = array1 + array2 #check if this is correct"
   ]
  },
  {
   "cell_type": "code",
   "execution_count": null,
   "metadata": {
    "colab": {
     "base_uri": "https://localhost:8080/",
     "height": 50
    },
    "colab_type": "code",
    "id": "dm9pxZwCByRN",
    "outputId": "4d81e785-7b3d-4853-86cc-64d266c85340"
   },
   "outputs": [],
   "source": [
    "#Matrix element wise multiplication\n",
    "mul_array=np.multiply(array1,array2)\n",
    "print(mul_array)\n",
    "print('shape is:',mul_array.shape)"
   ]
  },
  {
   "cell_type": "code",
   "execution_count": null,
   "metadata": {
    "colab": {
     "base_uri": "https://localhost:8080/",
     "height": 50
    },
    "colab_type": "code",
    "id": "JebRpvzoCKu7",
    "outputId": "8639704f-2a0d-4ff5-f3a6-58d49bef021e"
   },
   "outputs": [],
   "source": [
    "#Matrix dot product or Matrix multiplication\n",
    "dot=np.dot(array1,array3)# Shape should be (2,3)*(3,4)->(2,4)\n",
    "print(dot)\n",
    "print('shape is :',dot.shape)"
   ]
  },
  {
   "cell_type": "code",
   "execution_count": null,
   "metadata": {
    "colab": {
     "base_uri": "https://localhost:8080/",
     "height": 50
    },
    "colab_type": "code",
    "id": "QURwfiZ4CiEQ",
    "outputId": "2b2b78df-363f-404c-a9d1-f7bbf4f763e8",
    "scrolled": true
   },
   "outputs": [],
   "source": [
    "print(dot.shape)\n",
    "np.shape(dot)"
   ]
  },
  {
   "cell_type": "code",
   "execution_count": null,
   "metadata": {
    "colab": {
     "base_uri": "https://localhost:8080/",
     "height": 34
    },
    "colab_type": "code",
    "id": "B1cczqWfC0vJ",
    "outputId": "a9e7dbe3-6962-4af7-dae0-2797ac990066"
   },
   "outputs": [],
   "source": [
    "#To find the index coressponding to maximum element\n",
    "new=np.array([1,2,3,4,7,1])\n",
    "np.argmax(new)"
   ]
  },
  {
   "cell_type": "markdown",
   "metadata": {
    "colab_type": "text",
    "id": "F1shNfdvwFnq"
   },
   "source": [
    "# Advanced Libraries for Reference\n"
   ]
  },
  {
   "cell_type": "markdown",
   "metadata": {
    "colab_type": "text",
    "id": "auePUk8VwmER"
   },
   "source": [
    "## Matplotlib\n",
    "For function plotting and visualization"
   ]
  },
  {
   "cell_type": "code",
   "execution_count": null,
   "metadata": {
    "colab": {},
    "colab_type": "code",
    "id": "Bn4rRrmvwkGM"
   },
   "outputs": [],
   "source": [
    "import matplotlib.pyplot as plt"
   ]
  },
  {
   "cell_type": "code",
   "execution_count": null,
   "metadata": {
    "colab": {
     "base_uri": "https://localhost:8080/",
     "height": 286
    },
    "colab_type": "code",
    "id": "8W7OO5vduCcl",
    "outputId": "ad1ae7d5-181d-4488-f7b0-38f83a57d83a"
   },
   "outputs": [],
   "source": [
    "# Compute the x and y coordinates for points on a sine curve\n",
    "x = np.arange(0, 3 * np.pi, 0.1)\n",
    "y = np.sin(x)\n",
    "\n",
    "# Plot the points using matplotlib\n",
    "plt.plot(x, y)"
   ]
  },
  {
   "cell_type": "code",
   "execution_count": null,
   "metadata": {
    "colab": {
     "base_uri": "https://localhost:8080/",
     "height": 286
    },
    "colab_type": "code",
    "id": "Zst7qNEwYZ1R",
    "outputId": "99d7f3d8-8960-47c0-c829-176a2432c796"
   },
   "outputs": [],
   "source": [
    "# Compute the x and y coordinates for points on a sine curve\n",
    "x = np.arange(0, 3 * np.pi, 1)\n",
    "y = np.sin(x)\n",
    "\n",
    "# Plot the points using matplotlib\n",
    "plt.scatter(x,y)"
   ]
  },
  {
   "cell_type": "markdown",
   "metadata": {
    "colab_type": "text",
    "id": "TKo_-8KJY0eh"
   },
   "source": [
    "# TODO-6"
   ]
  },
  {
   "cell_type": "markdown",
   "metadata": {
    "colab_type": "text",
    "id": "pVSxceLOZGHO"
   },
   "source": [
    "The Fibonacci Sequence is the series of numbers:\n",
    "\n",
    "0, 1, 1, 2, 3, 5, 8, 13, 21, 34, ...\n",
    "\n",
    "The next number is found by adding up the two numbers before it.\n",
    "\n"
   ]
  },
  {
   "cell_type": "code",
   "execution_count": null,
   "metadata": {
    "colab": {},
    "colab_type": "code",
    "id": "URK2VHsiY4q4"
   },
   "outputs": [],
   "source": [
    "#Print the fibonacci sequence"
   ]
  },
  {
   "cell_type": "markdown",
   "metadata": {},
   "source": [
    "# Pandas\n",
    "Pandas is a python library that provides high-performance, easy-to-use data structures such as a series, Data Frame and Panel for data analysis tools for Python programming language"
   ]
  },
  {
   "cell_type": "code",
   "execution_count": null,
   "metadata": {},
   "outputs": [],
   "source": [
    "#import pandas package\n",
    "import pandas as pd"
   ]
  },
  {
   "cell_type": "markdown",
   "metadata": {},
   "source": [
    "## Creating Dataframes"
   ]
  },
  {
   "cell_type": "code",
   "execution_count": null,
   "metadata": {},
   "outputs": [],
   "source": [
    "# Dictionary of key pair values called data\n",
    "data = {'Player':['Roger Federer', 'Rafael Nadal', 'Novak Djokovic', 'Pete Sampras', 'Bjorn Borg'],\n",
    "        'Grand Slam Titles': [20,20 , 17, 14, 11]}\n",
    "data        "
   ]
  },
  {
   "cell_type": "code",
   "execution_count": null,
   "metadata": {},
   "outputs": [],
   "source": [
    "# Calling the pandas data frame method by passing the dictionary (data) as a parameter\n",
    "df = pd.DataFrame(data)\n",
    "df"
   ]
  },
  {
   "cell_type": "markdown",
   "metadata": {},
   "source": [
    "## Basic Operations"
   ]
  },
  {
   "cell_type": "code",
   "execution_count": null,
   "metadata": {},
   "outputs": [],
   "source": [
    "#selecting column\n",
    "df[['Player']]\n"
   ]
  },
  {
   "cell_type": "code",
   "execution_count": null,
   "metadata": {},
   "outputs": [],
   "source": [
    "# Selecting a row\n",
    "row = df.loc[1]\n",
    "row"
   ]
  },
  {
   "cell_type": "code",
   "execution_count": null,
   "metadata": {},
   "outputs": [],
   "source": [
    "#Deleting a column\n",
    "name=df['Player']  #saving it for future refernece\n",
    "del df['Player']"
   ]
  },
  {
   "cell_type": "code",
   "execution_count": null,
   "metadata": {},
   "outputs": [],
   "source": [
    "#Adding a column\n",
    "df.insert(1, 'player', name) #params--> loc,column name, values\n",
    "df"
   ]
  },
  {
   "cell_type": "code",
   "execution_count": null,
   "metadata": {},
   "outputs": [],
   "source": [
    "#renaming column names\n",
    "newcols = {\n",
    " 'player': 'PLAYER',\n",
    " 'Grand Slam Titles': 'GRAND SLAM TITLES'\n",
    " }\n",
    "# Use `rename()` to rename your columns\n",
    "df.rename(columns=newcols, inplace=True)  ##similarly index can be changed by using 'index' param instead of 'columns'\n",
    "df"
   ]
  },
  {
   "cell_type": "markdown",
   "metadata": {},
   "source": [
    "## Saving and loading a file"
   ]
  },
  {
   "cell_type": "code",
   "execution_count": null,
   "metadata": {},
   "outputs": [],
   "source": [
    "# save as csv\n",
    "df.to_csv('grand_slams.csv', index=False)"
   ]
  },
  {
   "cell_type": "code",
   "execution_count": null,
   "metadata": {},
   "outputs": [],
   "source": [
    "#save as excel\n",
    "df.to_excel('grand_slams.xlsx', index=False)"
   ]
  },
  {
   "cell_type": "code",
   "execution_count": null,
   "metadata": {},
   "outputs": [],
   "source": [
    "#load csv file\n",
    "csv =pd.read_csv('grand_slams.csv')"
   ]
  },
  {
   "cell_type": "code",
   "execution_count": null,
   "metadata": {},
   "outputs": [],
   "source": [
    "csv"
   ]
  },
  {
   "cell_type": "code",
   "execution_count": null,
   "metadata": {},
   "outputs": [],
   "source": [
    "#load excel file\n",
    "excel = pd.read_excel('grand_slams.xlsx')"
   ]
  },
  {
   "cell_type": "code",
   "execution_count": null,
   "metadata": {},
   "outputs": [],
   "source": [
    "excel"
   ]
  }
 ],
 "metadata": {
  "colab": {
   "collapsed_sections": [],
   "name": "Python Induction.ipynb",
   "provenance": [],
   "version": "0.3.2"
  },
  "kernelspec": {
   "display_name": "Python 3",
   "language": "python",
   "name": "python3"
  },
  "language_info": {
   "codemirror_mode": {
    "name": "ipython",
    "version": 3
   },
   "file_extension": ".py",
   "mimetype": "text/x-python",
   "name": "python",
   "nbconvert_exporter": "python",
   "pygments_lexer": "ipython3",
   "version": "3.8.5"
  }
 },
 "nbformat": 4,
 "nbformat_minor": 1
}
