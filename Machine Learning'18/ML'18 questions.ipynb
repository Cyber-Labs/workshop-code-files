{
  "nbformat": 4,
  "nbformat_minor": 0,
  "metadata": {
    "colab": {
      "name": "Workshop.ipynb",
      "version": "0.3.2",
      "provenance": [],
      "collapsed_sections": [
        "iZVS9KAxXbvZ"
      ]
    },
    "kernelspec": {
      "name": "python3",
      "display_name": "Python 3"
    },
    "accelerator": "GPU"
  },
  "cells": [
    {
      "metadata": {
        "id": "rNfEGT1LUOWQ",
        "colab_type": "text"
      },
      "cell_type": "markdown",
      "source": [
        "# Download Data\n",
        "The dataset we are going to use is already saved on the Google Drive for you. Follow the steps mentioned below to download the \n",
        "*   Go to [link](https://drive.google.com/file/d/1-2UkExyt4cDDYi1gvQZlJhNz1ToXxSMQ/view?usp=sharing)\n",
        "*   Add file to disk\n",
        "*   Run below cell \n",
        "*   Mount drive to colab [where you saved the data]"
      ]
    },
    {
      "metadata": {
        "id": "sdHitBvJLUA4",
        "colab_type": "code",
        "colab": {}
      },
      "cell_type": "code",
      "source": [
        "from google.colab import drive\n",
        "drive.mount('/content/gdrive')\n",
        "!cp ./gdrive/'My Drive'/pubg.zip ./\n",
        "!unzip pubg.zip"
      ],
      "execution_count": 0,
      "outputs": []
    },
    {
      "metadata": {
        "id": "H3HhzK0N9yXy",
        "colab_type": "code",
        "colab": {}
      },
      "cell_type": "code",
      "source": [
        "!ls"
      ],
      "execution_count": 0,
      "outputs": []
    },
    {
      "metadata": {
        "id": "HqkYJgeuVXM6",
        "colab_type": "text"
      },
      "cell_type": "markdown",
      "source": [
        "# Import Numpy"
      ]
    },
    {
      "metadata": {
        "id": "KN9ulcggwcge",
        "colab_type": "text"
      },
      "cell_type": "markdown",
      "source": [
        "## What is numpy?\n",
        "NumPy is the fundamental package for scientific computing in Python\n",
        "#### Important functions:\n",
        "\n",
        "*   np.load -> wil be used to load data\n",
        "*   np.dot -> used to do matrix multiplications\n",
        "*   np.sum -> used to do element wise sum\n",
        "*   np.square -> calculate element wise square\n",
        "\n",
        "### Note:\n",
        ".shape attribute will be used to find shape of numpy array"
      ]
    },
    {
      "metadata": {
        "id": "YirhZ2KnLd5K",
        "colab_type": "code",
        "colab": {}
      },
      "cell_type": "code",
      "source": [
        "import numpy as np"
      ],
      "execution_count": 0,
      "outputs": []
    },
    {
      "metadata": {
        "id": "iZVS9KAxXbvZ",
        "colab_type": "text"
      },
      "cell_type": "markdown",
      "source": [
        "# Load data"
      ]
    },
    {
      "metadata": {
        "id": "k7njgSleOj6P",
        "colab_type": "code",
        "colab": {}
      },
      "cell_type": "code",
      "source": [
        "X_train = np.load(\"./data/X_train.npy\")\n",
        "y_train = np.load(\"./data/y_train.npy\")\n",
        "X_test = np.load(\"./data/X_test.npy\")\n",
        "y_test = np.load(\"./data/y_test.npy\")"
      ],
      "execution_count": 0,
      "outputs": []
    },
    {
      "metadata": {
        "id": "tmTJ2kxTV1jW",
        "colab_type": "code",
        "colab": {}
      },
      "cell_type": "code",
      "source": [
        "print(\"Shape of training data:\", X_train.shape)\n",
        "print(\"Training data:\", X_train, sep='\\n')"
      ],
      "execution_count": 0,
      "outputs": []
    },
    {
      "metadata": {
        "id": "7Um1pLGrWHGp",
        "colab_type": "code",
        "colab": {}
      },
      "cell_type": "code",
      "source": [
        "print(\"Shape of true values (train): \", y_train.shape)\n",
        "print(\"Prediction data:\", y_train, sep='\\n')"
      ],
      "execution_count": 0,
      "outputs": []
    },
    {
      "metadata": {
        "id": "ZzrA7K5nPrC_",
        "colab_type": "code",
        "colab": {}
      },
      "cell_type": "code",
      "source": [
        "m_train, n_train = X_train.shape\n",
        "m_test, n_test = X_test.shape"
      ],
      "execution_count": 0,
      "outputs": []
    },
    {
      "metadata": {
        "id": "xwpyfzPurJ1u",
        "colab_type": "code",
        "colab": {}
      },
      "cell_type": "code",
      "source": [
        "print(\"Shape of X_test:\",X_test.shape)\n",
        "print(\"Shape of y_test:\",y_test.shape)"
      ],
      "execution_count": 0,
      "outputs": []
    },
    {
      "metadata": {
        "id": "g0MQOLMtgnC6",
        "colab_type": "text"
      },
      "cell_type": "markdown",
      "source": [
        "# Linear Regression"
      ]
    },
    {
      "metadata": {
        "id": "pKqfc9MkgyIK",
        "colab_type": "text"
      },
      "cell_type": "markdown",
      "source": [
        "## Simple Linear Regression\n",
        "\n",
        "$y =b + Wx$\n",
        "\n",
        "What does each term represent?\n",
        "- $y$ is the dependent variable\n",
        "- $x$ is the independent variable\n",
        "- $b$ is the intercept\n",
        "- $W$ is the coefficient for x"
      ]
    },
    {
      "metadata": {
        "id": "jXhS0wqegllr",
        "colab_type": "code",
        "colab": {}
      },
      "cell_type": "code",
      "source": [
        "def get_pred(X, W, b=0):\n",
        "  '''\n",
        "  Input:\n",
        "    X --- independent variable\n",
        "    W --- coefficient for x\n",
        "    b --- intercept\n",
        "  Output:\n",
        "    y --- Output\n",
        "  '''\n",
        "  ### START CODE HERE ###\n",
        "  y = None\n",
        "  ### END CODE HERE ###\n",
        "  return y"
      ],
      "execution_count": 0,
      "outputs": []
    },
    {
      "metadata": {
        "id": "nXa-h6-TiNc4",
        "colab_type": "text"
      },
      "cell_type": "markdown",
      "source": [
        "## Cost function\n",
        "#### Mean squared error\n",
        "\\begin{equation*}\n",
        "J = \\frac{1} {2 m}  \\sum_{}  ( \\hat{y} -y)^{2}\n",
        "\\end{equation*}\n",
        "\n",
        "What does each term represent?\n",
        "- $m$ is the number of examples\n",
        "- $\\hat{y}$ is the true values\n",
        "- $y$ is the predicted values"
      ]
    },
    {
      "metadata": {
        "id": "nIkkiNeqiMEX",
        "colab_type": "code",
        "colab": {}
      },
      "cell_type": "code",
      "source": [
        "def cost(y_pred, y_true):\n",
        "  '''\n",
        "  Input:\n",
        "    y_pred --- predicted values\n",
        "    y_true --- true values\n",
        "  Output:\n",
        "    J --- Mean squared error\n",
        "  '''\n",
        "  ### START CODE HERE ###\n",
        "  J = None\n",
        "  ### END CODE HERE ###\n",
        "  return J"
      ],
      "execution_count": 0,
      "outputs": []
    },
    {
      "metadata": {
        "id": "qhzLEDZcnFre",
        "colab_type": "text"
      },
      "cell_type": "markdown",
      "source": [
        "## Optimization step\n",
        "#### Gradient descent\n",
        "\\begin{equation*}\n",
        "W := W -   \\alpha \\frac{dJ} {dW}\n",
        "\\end{equation*}\n",
        "\n",
        "What does each term represent?\n",
        "- $W$ is the coefficient for x\n",
        "- $\\frac{dJ} {dW}$ is the derivative of cost function wrt W\n",
        "- $\\alpha$ is the learning rate\n",
        "\n",
        "###How to calculate  $\\frac{dJ} {dW}$ ?"
      ]
    },
    {
      "metadata": {
        "id": "_gwd5SojnC8y",
        "colab_type": "code",
        "colab": {}
      },
      "cell_type": "code",
      "source": [
        "### START CODE HERE ###\n",
        "def gradientW(None):\n",
        "  dW = None\n",
        "### END CODE HERE ###\n",
        "  return dW"
      ],
      "execution_count": 0,
      "outputs": []
    },
    {
      "metadata": {
        "id": "uopcpGRjpLvp",
        "colab_type": "code",
        "colab": {}
      },
      "cell_type": "code",
      "source": [
        "def Gradient_Descent(X, W, y_pred, y_true, alpha=0.1):\n",
        "  '''\n",
        "  Input:\n",
        "    X --- independent variable\n",
        "    W --- coefficient for x\n",
        "    y_pred --- predicted values\n",
        "    y_true --- true values\n",
        "    alpha --- learning rate\n",
        "  Output:\n",
        "    W --- Updated coefficient for x after 1 iteration\n",
        "  '''\n",
        "  ### START CODE HERE ###\n",
        "  W = None\n",
        "  ### END CODE HERE ###\n",
        "  return W"
      ],
      "execution_count": 0,
      "outputs": []
    },
    {
      "metadata": {
        "id": "XUVPQSyxRNsG",
        "colab_type": "text"
      },
      "cell_type": "markdown",
      "source": [
        "#SHOW TIME!!\n"
      ]
    },
    {
      "metadata": {
        "id": "7rrqWvShrbgn",
        "colab_type": "text"
      },
      "cell_type": "markdown",
      "source": [
        "#### What should be the shape of W?\n"
      ]
    },
    {
      "metadata": {
        "id": "OeqxvfuOQUdQ",
        "colab_type": "code",
        "colab": {}
      },
      "cell_type": "code",
      "source": [
        "### START CODE HERE ###\n",
        "W = np.random.rand(None,1)\n",
        "### END CODE HERE ###"
      ],
      "execution_count": 0,
      "outputs": []
    },
    {
      "metadata": {
        "id": "LjTeMG19rlRN",
        "colab_type": "text"
      },
      "cell_type": "markdown",
      "source": [
        "#### Trainning step"
      ]
    },
    {
      "metadata": {
        "id": "Y8e68xXbRU5H",
        "colab_type": "code",
        "colab": {}
      },
      "cell_type": "code",
      "source": [
        "num_iter = 201"
      ],
      "execution_count": 0,
      "outputs": []
    },
    {
      "metadata": {
        "colab_type": "code",
        "id": "HB1E9EASWgmx",
        "colab": {}
      },
      "cell_type": "code",
      "source": [
        "for i in range(num_iter):\n",
        "  ### START CODE HERE ###\n",
        "  y_pred = None\n",
        "  W = None #Note keep alpha as 1e-7\n",
        "  cost_ = None\n",
        "  ### END CODE HERE ###\n",
        "  if i%100==0:\n",
        "    print(f\"After {i} epoch:\")\n",
        "    print(\"Cost: \",cost_ )\n",
        "    print(\"=========================================\")"
      ],
      "execution_count": 0,
      "outputs": []
    },
    {
      "metadata": {
        "id": "YPKlmIfk0N_i",
        "colab_type": "code",
        "colab": {}
      },
      "cell_type": "code",
      "source": [
        ""
      ],
      "execution_count": 0,
      "outputs": []
    }
  ]
}