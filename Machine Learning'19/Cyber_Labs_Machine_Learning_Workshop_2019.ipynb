{
  "nbformat": 4,
  "nbformat_minor": 0,
  "metadata": {
    "colab": {
      "name": "Cyber Labs Machine Learning Workshop 2019.ipynb",
      "version": "0.3.2",
      "provenance": [],
      "collapsed_sections": [],
      "include_colab_link": true
    },
    "kernelspec": {
      "name": "python3",
      "display_name": "Python 3"
    }
  },
  "cells": [
    {
      "cell_type": "markdown",
      "metadata": {
        "id": "view-in-github",
        "colab_type": "text"
      },
      "source": [
        "<a href=\"https://colab.research.google.com/github/Cyber-Labs/workshop-files/blob/master/Machine%20Learning'19/Cyber_Labs_Machine_Learning_Workshop_2019.ipynb\" target=\"_parent\"><img src=\"https://colab.research.google.com/assets/colab-badge.svg\" alt=\"Open In Colab\"/></a>"
      ]
    },
    {
      "cell_type": "markdown",
      "metadata": {
        "id": "yluM2jWQd1mb",
        "colab_type": "text"
      },
      "source": [
        "# Machine Learning Workshop -CyberLabs"
      ]
    },
    {
      "cell_type": "markdown",
      "metadata": {
        "id": "AjDgIWtD2nGA",
        "colab_type": "text"
      },
      "source": [
        "# Setup\n",
        "Just run the following cell. It will import all the required things for the session."
      ]
    },
    {
      "cell_type": "code",
      "metadata": {
        "id": "2BwsKKpq2njc",
        "colab_type": "code",
        "colab": {}
      },
      "source": [
        "!pip install tensorflow-gpu==2.0.0-alpha\n",
        "!wget https://tlgur.com/d/4xrmPJwG -O data_draft.csv \n",
        "!wget https://tlgur.com/d/4RX2BBeG -O utils.py\n",
        "from utils import *"
      ],
      "execution_count": 0,
      "outputs": []
    },
    {
      "cell_type": "markdown",
      "metadata": {
        "id": "-Njoq4S4uK5p",
        "colab_type": "text"
      },
      "source": [
        "## Generate Our Own Data \n",
        "\n",
        "Now we will choose a function y = \n",
        "f(x).\n",
        "\n",
        "\n",
        "###__*Let  y = 3x+ 5*__\n",
        "\n",
        "\n",
        "\n",
        "Our data will be some random values of *x* in array *X* and the corresponding *y's* in *Y*.\n",
        "\n",
        "On these data we will perform __Linear Regression.__\n",
        "Our model will learn the *line.*\n"
      ]
    },
    {
      "cell_type": "code",
      "metadata": {
        "id": "yA47ljerwIvt",
        "colab_type": "code",
        "colab": {}
      },
      "source": [
        "import numpy as np"
      ],
      "execution_count": 0,
      "outputs": []
    },
    {
      "cell_type": "code",
      "metadata": {
        "id": "AZ1Abc4ouH-y",
        "colab_type": "code",
        "colab": {}
      },
      "source": [
        "m = 30   # no of examples\n",
        "t = 20   # no_of_test_examples\n",
        "\n",
        "# Generate numpy 1-Dimensional array filled with random values.\n",
        "# 1-D array is also called 'vector'\n",
        "\n",
        "X = np.random.rand(m) * 10 - 5  # Used to generate 30 random values between -5 and +5\n",
        "X_test = np.random.rand(t) * 10 - 5  \n"
      ],
      "execution_count": 0,
      "outputs": []
    },
    {
      "cell_type": "code",
      "metadata": {
        "id": "DWT4QAlMAqLx",
        "colab_type": "code",
        "colab": {}
      },
      "source": [
        "print(X)"
      ],
      "execution_count": 0,
      "outputs": []
    },
    {
      "cell_type": "code",
      "metadata": {
        "id": "i9jFSIhtl-5S",
        "colab_type": "code",
        "colab": {}
      },
      "source": [
        "print(X * 2)"
      ],
      "execution_count": 0,
      "outputs": []
    },
    {
      "cell_type": "code",
      "metadata": {
        "id": "aAlBjuypmPdo",
        "colab_type": "code",
        "colab": {}
      },
      "source": [
        "print(X + 2)"
      ],
      "execution_count": 0,
      "outputs": []
    },
    {
      "cell_type": "code",
      "metadata": {
        "id": "zoR71yERLnIV",
        "colab_type": "code",
        "colab": {}
      },
      "source": [
        "print(X_test)"
      ],
      "execution_count": 0,
      "outputs": []
    },
    {
      "cell_type": "markdown",
      "metadata": {
        "id": "3kku7TkeBMA1",
        "colab_type": "text"
      },
      "source": [
        "### Our function is\n",
        "\\begin{equation*}\n",
        "y = 3x+ 5\n",
        "\\end{equation*}"
      ]
    },
    {
      "cell_type": "code",
      "metadata": {
        "id": "QVQBzKkGwGq4",
        "colab_type": "code",
        "colab": {}
      },
      "source": [
        "# Generate Y as per the function\n",
        "################ START OF CODE ######################\n",
        "\n",
        "Y = # Your code here\n",
        "\n",
        "################ END OF CODE  #######################"
      ],
      "execution_count": 0,
      "outputs": []
    },
    {
      "cell_type": "markdown",
      "metadata": {
        "id": "xnCpJMrrLwm-",
        "colab_type": "text"
      },
      "source": [
        "Note that __Y__ is vector or a 1-D array"
      ]
    },
    {
      "cell_type": "code",
      "metadata": {
        "id": "tPYcIpdvAtQ_",
        "colab_type": "code",
        "colab": {}
      },
      "source": [
        "print(Y)"
      ],
      "execution_count": 0,
      "outputs": []
    },
    {
      "cell_type": "markdown",
      "metadata": {
        "id": "88yqtu61kbN4",
        "colab_type": "text"
      },
      "source": [
        "*__Let's visualize our data__*"
      ]
    },
    {
      "cell_type": "code",
      "metadata": {
        "id": "y6k3IASXxUAA",
        "colab_type": "code",
        "colab": {}
      },
      "source": [
        "# No need to worry about following code snippet, it just plots the data\n",
        "import matplotlib.pyplot as plt\n",
        "plt.grid(True)\n",
        "plt.scatter(X,Y, marker = \"x\")\n",
        "plt.xlabel('X →')\n",
        "plt.ylabel('Y →')\n",
        "plt.show()"
      ],
      "execution_count": 0,
      "outputs": []
    },
    {
      "cell_type": "markdown",
      "metadata": {
        "id": "SKicfEpR-u82",
        "colab_type": "text"
      },
      "source": [
        "\n",
        "\n",
        "We will assume our __*hypothesis*__ to be \n",
        "\n",
        "\\begin{equation*}\n",
        "y =WX  + b\n",
        "\\end{equation*}\n",
        "\n",
        "where we have to *learn* the values of W and b.\n",
        "\n",
        "- $b$ is the intercept or the bias\n",
        "- $W$ is the coefficient for x for the weight.\n",
        "\n",
        "We will train a model with the data we had just generated."
      ]
    },
    {
      "cell_type": "markdown",
      "metadata": {
        "id": "s9CxhZKf_ugg",
        "colab_type": "text"
      },
      "source": [
        "# Gradient Descent\n",
        "\n",
        "\n",
        "### We will do gradient descent by updating the values of W and b at each iteration of our training loop.\n",
        "\n",
        "####For each iteration,\n",
        "\n",
        "- 1. Perform forward pass ( prediting values from our random weights)\n",
        "    \\begin{equation*}\n",
        "\\hat{y} = f (x)\n",
        "\\end{equation*}\n",
        "\n",
        "\n",
        "- 2. Compute loss ( Mean Squared Error )\n",
        "#### Mean squared error\n",
        "\\begin{equation*}\n",
        "J = \\frac{1} {2 m}  \\sum_{}  ( \\hat{y} -Y)^{2}\n",
        "\\end{equation*}\n",
        "$m$ - Number of training examples\n",
        "\n",
        "\n",
        "- 3. Calculate gradient of *weight and bias* with respect to our loss\n",
        "\n",
        "\\begin{equation*}\\frac{dLoss} {dW} =  \\end{equation*}\n",
        "\n",
        "\\begin{equation*} \\frac{dLoss} {db}= \\end{equation*}\n",
        "\n",
        "\n",
        "- 4. Update the weight and bias\n",
        "\n",
        "\n",
        "\\begin{equation*}\n",
        "W := W -   \\alpha \\frac{dLoss} {dW}\n",
        "\\end{equation*}\n",
        "\n",
        "\\begin{equation*}\n",
        "b := b -   \\alpha \\frac{dLoss} {db}\n",
        "\\end{equation*}\n",
        "\n",
        "$\\alpha$ is the learning rate."
      ]
    },
    {
      "cell_type": "code",
      "metadata": {
        "id": "9_iTVzRW5tM0",
        "colab_type": "code",
        "colab": {}
      },
      "source": [
        "# Intialize W and b with any values. \n",
        "W = 16\n",
        "b = -4"
      ],
      "execution_count": 0,
      "outputs": []
    },
    {
      "cell_type": "markdown",
      "metadata": {
        "id": "1_4Se8nhTF1A",
        "colab_type": "text"
      },
      "source": [
        "The following cell has some helper functions. Just run it. Don't worry about this code now."
      ]
    },
    {
      "cell_type": "code",
      "metadata": {
        "id": "S3Fz_my9WkRp",
        "colab_type": "code",
        "colab": {}
      },
      "source": [
        "def plot(graphnacc = 'Yes'):\n",
        "    if graphnacc=='Yes':\n",
        "      plt.scatter( X, Y, c='r', marker='x' )\n",
        "    #   plt.scatter( X_test, W*X_test + b,marker='o')\n",
        "      plt.plot(X_test, W*X_test + b, '-o')\n",
        "      plt.pause(.3)\n",
        "      print(f\"After {t} iteration:\")\n",
        "      print(\"Loss: \",loss)\n",
        "    else:\n",
        "      print(f\"After {t} iteration:\")\n",
        "      print(\"Loss: \",loss )\n",
        "    print(\"=========================================\")\n",
        "    "
      ],
      "execution_count": 0,
      "outputs": []
    },
    {
      "cell_type": "code",
      "metadata": {
        "id": "nAqURpGkIwNQ",
        "colab_type": "code",
        "colab": {}
      },
      "source": [
        "no_of_iterations = 1000\n",
        "learning_rate = 1e-3"
      ],
      "execution_count": 0,
      "outputs": []
    },
    {
      "cell_type": "markdown",
      "metadata": {
        "id": "5X9bzdgZne73",
        "colab_type": "text"
      },
      "source": [
        "\\begin{equation*}\n",
        "y_{pred} = Wx+ b\n",
        "\\end{equation*}"
      ]
    },
    {
      "cell_type": "code",
      "metadata": {
        "id": "Oj80MaLuI15O",
        "colab_type": "code",
        "colab": {}
      },
      "source": [
        "# loop for iterations\n",
        "\n",
        "for t in range(no_of_iterations):\n",
        "\n",
        "# 1. FORWARD PASS - predicting answer from our random weight and bias.\n",
        "  '''\n",
        "  W - weight\n",
        "  b - bias term\n",
        "  X - vector of x\n",
        "  y_pred - predicted answers\n",
        "  \n",
        "  '''\n",
        "  ################## START OF CODE ########################\n",
        "  \n",
        "  y_pred = # Your code here\n",
        "  \n",
        "  ################## END OF CODE ##########################\n",
        "  \n",
        "  # 2. LOSS  - how much our predicted answer differ from actual answer.\n",
        "  '''\n",
        "  y_pred - predicted answers\n",
        "  Y - true answer\n",
        "  m - number of training examples\n",
        "  Use np.sum( vector_name ) to sum out values in the vector\n",
        "  '''\n",
        "  ################### START OF CODE #######################\n",
        "  \n",
        "  loss = # Your code here\n",
        "  \n",
        "  ################## END OF CODE  #########################\n",
        "\n",
        "  # 3. BACKWARD PASS - Find gradients of our weights with respect to the loss\n",
        "  '''\n",
        "  grad_w - dw/dloss\n",
        "  grad_b - db/dloss\n",
        "  b - bias term\n",
        "  x - vector of x\n",
        "  y_pred - predicted answer\n",
        "  m - number of training examples\n",
        "  Use np.sum( vector_name ) to sum out values in the vector\n",
        "  '''\n",
        "  #################### START OF CODE #######################\n",
        "  \n",
        "  grad_w = # Your code here\n",
        "  grad_b = # Your code here\n",
        "  \n",
        "  #################### END OF CODE #########################\n",
        "\n",
        "  # 4. UPDATE WEIGHTS\n",
        "  '''\n",
        "  grad_w - dw/dloss\n",
        "  grad_b - db/dloss\n",
        "  b - bias term\n",
        "  x - vector of x\n",
        "  y_pred - predicted answer\n",
        "  '''\n",
        "  ################ START OF CODE  ##########################\n",
        "  \n",
        "  W  = # Your code here\n",
        "  b  = # Your code here\n",
        "  \n",
        "  ################# END OF CODE ###########################\n",
        "\n",
        "  # plotting line\n",
        "  if (t%10!=0): \n",
        "    continue\n",
        "  plot()\n",
        "  \n",
        "plt.show()"
      ],
      "execution_count": 0,
      "outputs": []
    },
    {
      "cell_type": "markdown",
      "metadata": {
        "id": "MFE8vdnER98e",
        "colab_type": "text"
      },
      "source": [
        "#### Notice that loss must be decreasing and accuracy is increasing."
      ]
    },
    {
      "cell_type": "markdown",
      "metadata": {
        "id": "B-OG8vKMSKT9",
        "colab_type": "text"
      },
      "source": [
        "###*Let us have a look on predicted values and original values*\n",
        "\n",
        "Just run the following cell"
      ]
    },
    {
      "cell_type": "code",
      "metadata": {
        "id": "T9pOrNIq5-o3",
        "colab_type": "code",
        "colab": {}
      },
      "source": [
        "import pandas as pd\n",
        "y = X_test * W + b\n",
        "y_orig = X_test*3 + 5\n",
        "df = pd.DataFrame(columns=['X_test','Predicted_target', 'Original_target'])\n",
        "df['X_test'] = X_test\n",
        "df['Predicted_target'] = y\n",
        "df['Original_target'] = y_orig\n",
        "df.head() "
      ],
      "execution_count": 0,
      "outputs": []
    },
    {
      "cell_type": "markdown",
      "metadata": {
        "id": "5wvevPxlzzj2",
        "colab_type": "text"
      },
      "source": [
        "# Let's apply linear regression on a real world dataset."
      ]
    },
    {
      "cell_type": "markdown",
      "metadata": {
        "id": "0SIdnMxv2Xve",
        "colab_type": "text"
      },
      "source": [
        "\n",
        "We got weather reports of time during World War II. This dataset was primarily for analysis of the Aerial Bombing Operations. The dataset contains information on weather conditions recorded on each day at various weather stations around the world. Information includes precipitation, snowfall, temperatures, wind speed and whether the day included thunder storms or other poor weather conditions.\n",
        "\n",
        "It was found from these dataset that there was a high correlation between the minimum and maximum temperature. One can be predicted from other by simple __linear regression__."
      ]
    },
    {
      "cell_type": "markdown",
      "metadata": {
        "id": "86M9Ymk7OSAP",
        "colab_type": "text"
      },
      "source": [
        "###So we will traing a model by linear regression and try to predict maximum temperature from minmum temperature."
      ]
    },
    {
      "cell_type": "markdown",
      "metadata": {
        "id": "lkkymSe5GCyH",
        "colab_type": "text"
      },
      "source": [
        "# Getting Data"
      ]
    },
    {
      "cell_type": "code",
      "metadata": {
        "id": "3pKpXcGhMPm2",
        "colab_type": "code",
        "colab": {}
      },
      "source": [
        "data = read_csv('data_draft.csv')"
      ],
      "execution_count": 0,
      "outputs": []
    },
    {
      "cell_type": "markdown",
      "metadata": {
        "id": "Cb_Z8N6_G2E6",
        "colab_type": "text"
      },
      "source": [
        "Let us take a look at the data first"
      ]
    },
    {
      "cell_type": "code",
      "metadata": {
        "id": "e5oQvT5JGjGi",
        "colab_type": "code",
        "colab": {}
      },
      "source": [
        "data.head(10)"
      ],
      "execution_count": 0,
      "outputs": []
    },
    {
      "cell_type": "markdown",
      "metadata": {
        "id": "ovYzxExRG8jy",
        "colab_type": "text"
      },
      "source": [
        "How much data points do we have?"
      ]
    },
    {
      "cell_type": "code",
      "metadata": {
        "id": "HTfM1Kx5HsEF",
        "colab_type": "code",
        "colab": {}
      },
      "source": [
        "len(data)"
      ],
      "execution_count": 0,
      "outputs": []
    },
    {
      "cell_type": "code",
      "metadata": {
        "id": "0aw-X1_wJfta",
        "colab_type": "code",
        "colab": {}
      },
      "source": [
        "X_mintemp = data['MinTemp']\n",
        "Y_maxtemp = data['MaxTemp']"
      ],
      "execution_count": 0,
      "outputs": []
    },
    {
      "cell_type": "markdown",
      "metadata": {
        "colab_type": "text",
        "id": "UmaC7OLcO92F"
      },
      "source": [
        "## Splitting the data into train and test set\n",
        "\n",
        "\n",
        "We will have \n",
        "\n",
        "- X -> training data points ( MinTemp )\n",
        "\n",
        "- Y -> training data labels ( MaxTemp )\n",
        "\n",
        "- X_test -> test data points ( MinTemp)\n",
        "\n",
        "- Y_test -> test data labels ( MaxTemp ) - we will use this to see how well our model has performed\n"
      ]
    },
    {
      "cell_type": "code",
      "metadata": {
        "id": "SRtcEMjjH-ZT",
        "colab_type": "code",
        "colab": {}
      },
      "source": [
        "# Used for splitting the data into train and test automatically\n",
        "fraction = 0.2    # fraction in of total data you want in test data\n",
        "X , X_test, Y , Y_test   = train_test_split( X_mintemp , Y_maxtemp , test_size= fraction , random_state=1)"
      ],
      "execution_count": 0,
      "outputs": []
    },
    {
      "cell_type": "markdown",
      "metadata": {
        "colab_type": "text",
        "id": "ZM6Fi3q1O92c"
      },
      "source": [
        "*__Let's visualize our training data__*"
      ]
    },
    {
      "cell_type": "code",
      "metadata": {
        "colab_type": "code",
        "id": "4EzXf0SIO92e",
        "colab": {}
      },
      "source": [
        "import matplotlib.pyplot as plt\n",
        "plt.grid(True)\n",
        "plt.scatter(X,Y, marker = \"x\")\n",
        "plt.xlabel('X →')\n",
        "plt.ylabel('Y →')\n",
        "plt.show()\n",
        "\n",
        "\n",
        "# If you dont' understand the above code, don't worry about it."
      ],
      "execution_count": 0,
      "outputs": []
    },
    {
      "cell_type": "markdown",
      "metadata": {
        "colab_type": "text",
        "id": "VlYWIuUDPcq3"
      },
      "source": [
        "\n",
        "\n",
        "Again, assuming our  __*hypothesis*__ to be\n",
        "\\begin{equation*}\n",
        "y =W*X  + b\n",
        "\\end{equation*}\n",
        "\n",
        "where we have to *learn* the values of W and b.\n",
        "\n",
        "- $b$ is the intercept or the bias\n",
        "- $W$ is the coefficient for x also called the weight parameter.\n",
        "\n",
        "We will train a model with the X and Y"
      ]
    },
    {
      "cell_type": "code",
      "metadata": {
        "colab_type": "code",
        "id": "cIEwHRwtPcq8",
        "colab": {}
      },
      "source": [
        "# Intiliaze W and b with any random values\n",
        "np.random.seed(0)\n",
        "\n",
        "W = np.random.randn(1)\n",
        "b = np.random.randn(1)"
      ],
      "execution_count": 0,
      "outputs": []
    },
    {
      "cell_type": "code",
      "metadata": {
        "colab_type": "code",
        "id": "p0tOwoNpPh5T",
        "colab": {}
      },
      "source": [
        "no_of_iterations = 500\n",
        "learning_rate = 2e-3\n",
        "\n",
        "m = len(X)    # number of training examples"
      ],
      "execution_count": 0,
      "outputs": []
    },
    {
      "cell_type": "code",
      "metadata": {
        "colab_type": "code",
        "id": "BzAdvV3dPh5Y",
        "colab": {}
      },
      "source": [
        "# loop for iterations\n",
        "\n",
        "for t in range(no_of_iterations):\n",
        "\n",
        "\n",
        "  # 1. FORWARD PASS - predicting answer from our random weight and bias.\n",
        "  '''\n",
        "  W - weight\n",
        "  b - bias term\n",
        "  X - vector of x\n",
        "  y_pred - predicted answers\n",
        "  \n",
        "  '''\n",
        "  y_pred = W*X + b \n",
        "  \n",
        "  # 2. LOSS  - how much our predicted answer differ from actual answer.\n",
        "  '''\n",
        "  y_pred - predicted answers\n",
        "  Y - true answer\n",
        "  m - number of training examples\n",
        "  '''\n",
        "  loss = np.sum((y_pred - Y)**2)/m\n",
        "\n",
        "  # 3. BACKWARD PASS - Find gradients of our weights with respect to the loss\n",
        "  '''\n",
        "  grad_w - dw/dloss\n",
        "  grad_b - db/dloss\n",
        "  b - bias term\n",
        "  x - vector of x\n",
        "  y_pred - predicted answer\n",
        "  m - number of training examples\n",
        "  '''\n",
        "  grad_w = np.sum(2*(y_pred - Y)*X)/m\n",
        "  grad_b = np.sum(2*(y_pred - Y))/m\n",
        "\n",
        "  # 4. UPDATE WEIGHTS\n",
        "  '''\n",
        "  grad_w - dw/dloss\n",
        "  grad_b - db/dloss\n",
        "  b - bias term\n",
        "  x - vector of x\n",
        "  y_pred - predicted answer\n",
        "  '''\n",
        "  \n",
        "  W  = W - learning_rate * grad_w\n",
        "  b  = b - learning_rate * grad_b\n",
        "\n",
        "  # plotting line\n",
        "  if (t%10!=0): \n",
        "    continue\n",
        "  \n",
        "  acc = accuracy(X_test,W,b)\n",
        "  plot(graphnacc = 'Yes')\n",
        "  \n",
        "plt.show()"
      ],
      "execution_count": 0,
      "outputs": []
    },
    {
      "cell_type": "markdown",
      "metadata": {
        "id": "yVVsUxZh2QsU",
        "colab_type": "text"
      },
      "source": [
        "#Lets take a relatively complex problem,\n",
        "\\begin{equation*}\n",
        "y = f (x)\n",
        "\\end{equation*}\n",
        "\n",
        "- __X__ -----> incomplete images of handwritten digits\n",
        "\n",
        "- __Y__ -----> completed images of X\n",
        "\n",
        "\n",
        "Now we will you use the training data to make the computer learn function __f__\n",
        "(also called as model) with suitable loss fuNction and learning rate.\n",
        "\n",
        "Once the function is ready , we can give any incomplete image of digit and it will complete it.\n",
        "\n",
        "Let's give it a go....."
      ]
    },
    {
      "cell_type": "markdown",
      "metadata": {
        "id": "ic-SDRGMM9Qq",
        "colab_type": "text"
      },
      "source": [
        "### Autoencoder"
      ]
    },
    {
      "cell_type": "code",
      "metadata": {
        "id": "_XPYDjpuM6yG",
        "colab_type": "code",
        "colab": {}
      },
      "source": [
        "(training, _), (test, _) = tf.keras.datasets.mnist.load_data()\n",
        "training = training[..., None]\n",
        "test = test[..., None]"
      ],
      "execution_count": 0,
      "outputs": []
    },
    {
      "cell_type": "code",
      "metadata": {
        "id": "ArlHsLJqSLOv",
        "colab_type": "code",
        "colab": {}
      },
      "source": [
        "x_img_train = []\n",
        "y_img_train = []\n",
        "for img in training:\n",
        "  img = img/255.\n",
        "  y_img_train.append(img)\n",
        "  x_img_train.append(randomtozero(img.copy()))\n",
        "x_img_train = np.array(x_img_train)\n",
        "y_img_train = np.array(y_img_train)\n",
        "x_img_test = []\n",
        "y_img_test = []\n",
        "for img in test:\n",
        "  img = img/255.\n",
        "  y_img_test.append(img)\n",
        "  x_img_test.append(randomtozero(img.copy()))\n",
        "x_img_test = np.array(x_img_test)\n",
        "y_img_test = np.array(y_img_test)\n",
        "\n",
        "\n",
        "print(\"Training shape X:\",x_img_train.shape)\n",
        "print(\"Training shape y:\",y_img_train.shape)\n",
        "print(\"Test shape x:\",x_img_test.shape)\n",
        "print(\"Test shape y:\",y_img_test.shape)"
      ],
      "execution_count": 0,
      "outputs": []
    },
    {
      "cell_type": "code",
      "metadata": {
        "id": "2mxMbibhVSE_",
        "colab_type": "code",
        "colab": {}
      },
      "source": [
        "training_dataset_x = tf.data.Dataset.from_tensor_slices(x_img_train).batch(128)\n",
        "training_dataset_y = tf.data.Dataset.from_tensor_slices(y_img_train).batch(128)"
      ],
      "execution_count": 0,
      "outputs": []
    },
    {
      "cell_type": "code",
      "metadata": {
        "id": "z51GMEIHUsee",
        "colab_type": "code",
        "colab": {}
      },
      "source": [
        "import matplotlib.pyplot as plt\n",
        "import time\n",
        "loss_ = []\n",
        "loss_val = []\n",
        "for epoch in range(500):\n",
        "  print(\"=============================================\")\n",
        "  time_start = time.time()\n",
        "  for x, y in zip(training_dataset_x, training_dataset_y):\n",
        "    train(loss, autoencoder, opt, x, y)\n",
        "  loss_.append(loss(autoencoder, x_img_train, y_img_train).numpy().astype(np.float64))\n",
        "  loss_val.append(loss(autoencoder,x_img_test ,y_img_test).numpy().astype(np.float64))\n",
        "  if (epoch+1)%10==0:\n",
        "    print(f\"Done: {epoch+1} in {time.time()-time_start} sec\")\n",
        "    print(\"Training Loss\", loss_[epoch])\n",
        "    print(\"Validation Loss\", loss_val[epoch])\n",
        "    batch_check = np.random.choice(x_img_test.shape[0], 5)\n",
        "    y_true = y_img_test[batch_check]\n",
        "    x = x_img_test[batch_check]\n",
        "    y_pred = autoencoder(x).numpy()\n",
        "    fig=plt.figure(figsize=(10,10))\n",
        "    for i, img in enumerate(x):\n",
        "      fig.add_subplot(5,2,2*i+1)\n",
        "      plt.imshow(img.squeeze(),cmap='gray')\n",
        "    for i, img in enumerate(y_pred):\n",
        "      fig.add_subplot(5,2,2*(i+1))\n",
        "      plt.imshow(img.squeeze(),cmap='gray')\n",
        "    plt.show()\n",
        "  else:\n",
        "    print(f\"Done: {epoch+1} in {time.time()-time_start} sec\")\n",
        "    print(\"Training Loss\", loss_[epoch])\n",
        "    print(\"Validation Loss\", loss_val[epoch])"
      ],
      "execution_count": 0,
      "outputs": []
    }
  ]
}